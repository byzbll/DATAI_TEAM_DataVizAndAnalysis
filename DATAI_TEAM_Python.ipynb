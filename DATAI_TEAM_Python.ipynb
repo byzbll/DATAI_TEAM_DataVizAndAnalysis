{
 "cells": [
  {
   "cell_type": "code",
   "execution_count": 4,
   "id": "147d308a-cceb-44e9-bc1b-0e23cfc72829",
   "metadata": {},
   "outputs": [
    {
     "name": "stdout",
     "output_type": "stream",
     "text": [
      "101\n"
     ]
    }
   ],
   "source": [
    "liste = [1,4,5,6,8,3,3,4,67]\n",
    "toplam = 0\n",
    "for i in liste:\n",
    "    toplam += i\n",
    "print(toplam)"
   ]
  },
  {
   "cell_type": "code",
   "execution_count": 7,
   "id": "5c73f401-dcec-4712-b2b6-e8fd3522cfec",
   "metadata": {},
   "outputs": [
    {
     "name": "stdout",
     "output_type": "stream",
     "text": [
      "1 2 3\n",
      "3 4 5\n"
     ]
    }
   ],
   "source": [
    "tup1 = ((1,2,3),(3,4,5))\n",
    "for x, y, z in tup1:\n",
    "    print(x,y,z)"
   ]
  },
  {
   "cell_type": "code",
   "execution_count": 12,
   "id": "a2bd7768-ac92-4c75-9cb7-c7c8bec18e1e",
   "metadata": {},
   "outputs": [
    {
     "name": "stdout",
     "output_type": "stream",
     "text": [
      "101\n"
     ]
    }
   ],
   "source": [
    "liste = [1,4,5,6,8,3,3,4,67]\n",
    "sinir = len(liste)\n",
    "i = 0\n",
    "toplam = 0\n",
    "while i < sinir:\n",
    "    toplam += liste[i]\n",
    "    i += 1\n",
    "print(toplam)\n",
    "# sınırı almana gerek yok çünkü index numarasını ekliyorum."
   ]
  },
  {
   "cell_type": "code",
   "execution_count": 14,
   "id": "115405c4-f956-4dfd-b372-15f0b390c221",
   "metadata": {},
   "outputs": [
    {
     "name": "stdout",
     "output_type": "stream",
     "text": [
      "28.26\n"
     ]
    }
   ],
   "source": [
    "# Class'ların içinde kullanılıyorsa Metot, dışında ise Fonksiyon denir.\n",
    "r = 3\n",
    "def daireAlan(r):\n",
    "    \"\"\"\n",
    "    Parameters\n",
    "    -----------\n",
    "    r : int - daire yarıçapı.\n",
    "    \n",
    "    Returns\n",
    "    ----------\n",
    "    daire alanı : float - daire alanı\n",
    "    \"\"\"\n",
    "# Docstring fonksiyonun ne yaptığını ifade eden bir bilgi penceresidir.    \n",
    "    pi = 3.14\n",
    "    daire_alanı = pi*(r**2)\n",
    "# Fonksiyonların içerisinde bulunan değişkenleri dışarıya çıkartabilmek için \"Return\" diye bir keyword belirlemişler.    \n",
    "    return daire_alanı;\n",
    "\n",
    "daireAlanıDegiskeni = daireAlan(3)\n",
    "print(daireAlanıDegiskeni)"
   ]
  },
  {
   "cell_type": "code",
   "execution_count": 18,
   "id": "9d363693-0234-46e8-bf70-92068b0d65b1",
   "metadata": {},
   "outputs": [
    {
     "name": "stdout",
     "output_type": "stream",
     "text": [
      "25\n",
      "5\n"
     ]
    }
   ],
   "source": [
    "katsayi = 5 # Global Değişken\n",
    "def katsayiCarpimi():\n",
    "    print(katsayi*katsayi)\n",
    "katsayiCarpimi()  \n",
    "print(katsayi)"
   ]
  },
  {
   "cell_type": "code",
   "execution_count": 19,
   "id": "65783bda-1cfc-4c57-a65d-0fe0d1b4ca30",
   "metadata": {},
   "outputs": [],
   "source": [
    "# Boş Fonksiyonlar\n",
    "# Bazı kütüphanelerde input olarak fonksiyon alınıyor. Ancak bizim kullanmak istediğimiz bir fonksiyon değil.\n",
    "# Ama kütüphanenin söz dizimi nedeniyle bu fonksiyonu buraya yazmalıyız.\n",
    "def bos():\n",
    "    pass"
   ]
  },
  {
   "cell_type": "code",
   "execution_count": 22,
   "id": "7b71c9d6-5591-499b-90ae-e72b6d5dfa54",
   "metadata": {},
   "outputs": [
    {
     "name": "stdout",
     "output_type": "stream",
     "text": [
      "4\n",
      "[1, 2, 3, 4]\n",
      "[1, 2, 3, 4]\n",
      "4\n",
      "1\n"
     ]
    }
   ],
   "source": [
    "# Hazır Python Fonksiyonları\n",
    "liste = [1,2,3,4]\n",
    "print(len(liste))\n",
    "print(str(liste))\n",
    "liste2 = liste.copy()\n",
    "print(liste2)\n",
    "print(max(liste2))\n",
    "print(min(liste))"
   ]
  },
  {
   "cell_type": "code",
   "execution_count": 26,
   "id": "72ff9632-1df4-43be-a77d-1d20de9142cc",
   "metadata": {},
   "outputs": [
    {
     "name": "stdout",
     "output_type": "stream",
     "text": [
      "24\n"
     ]
    }
   ],
   "source": [
    "#Lambda Fonksiyonlar\n",
    "\"\"\" \n",
    "- İleri Seviyelidir.\n",
    "- Küçük ve Anonim bir işlemdir.\n",
    "\"\"\"\n",
    "def carpma(x,y,z):\n",
    "    return x*y*z\n",
    "\n",
    "#print(carpma(2,3,4))\n",
    "sonuc = carpma(2,3,4)\n",
    "print(sonuc)"
   ]
  },
  {
   "cell_type": "code",
   "execution_count": 28,
   "id": "7d281fbd-4e68-49f9-baf2-8f5247ce8924",
   "metadata": {},
   "outputs": [
    {
     "name": "stdout",
     "output_type": "stream",
     "text": [
      "24\n"
     ]
    }
   ],
   "source": [
    "# Aynı işlem lambda fonksiyonu ile\n",
    "fonksiyon_lambda = lambda x,y,z : x*y*z\n",
    "sonuc = fonksiyon_lambda(2,3,4)\n",
    "print(sonuc)"
   ]
  },
  {
   "cell_type": "code",
   "execution_count": 30,
   "id": "6fb5e711-5fcc-4fa5-b4d8-8384cd93f1ab",
   "metadata": {},
   "outputs": [
    {
     "name": "stdout",
     "output_type": "stream",
     "text": [
      "1\n",
      "2\n",
      "3\n"
     ]
    }
   ],
   "source": [
    "# Generator\n",
    "generator = (x for x in range(1,4))\n",
    "for i in generator:\n",
    "    print(i)\n",
    "# 1'i ilk önce generate edeceğiz. Diğer iterasyonda 1 unutuluyor 2'yi generate ediyoruz... Böylelikle Memory dolmamış oluyor."
   ]
  },
  {
   "cell_type": "code",
   "execution_count": 33,
   "id": "35017477-8023-428f-aacd-178c4aeb50aa",
   "metadata": {},
   "outputs": [
    {
     "name": "stdout",
     "output_type": "stream",
     "text": [
      "<generator object createGenerator at 0x000001D5A5BD7190>\n",
      "1\n",
      "2\n",
      "3\n"
     ]
    }
   ],
   "source": [
    "def createGenerator():\n",
    "    liste = range(1,4)\n",
    "    for i in liste:\n",
    "        yield i\n",
    "generator = createGenerator()\n",
    "print(generator)\n",
    "\n",
    "for i in generator:\n",
    "    print(i)"
   ]
  },
  {
   "cell_type": "code",
   "execution_count": null,
   "id": "61cd1f8e-1e91-422c-9429-7d2a39047102",
   "metadata": {},
   "outputs": [],
   "source": []
  }
 ],
 "metadata": {
  "kernelspec": {
   "display_name": "Python 3 (ipykernel)",
   "language": "python",
   "name": "python3"
  },
  "language_info": {
   "codemirror_mode": {
    "name": "ipython",
    "version": 3
   },
   "file_extension": ".py",
   "mimetype": "text/x-python",
   "name": "python",
   "nbconvert_exporter": "python",
   "pygments_lexer": "ipython3",
   "version": "3.9.12"
  }
 },
 "nbformat": 4,
 "nbformat_minor": 5
}
