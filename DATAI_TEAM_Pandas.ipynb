{
 "cells": [
  {
   "cell_type": "code",
   "execution_count": 2,
   "id": "7fcce5b0-7749-41b0-abea-b88846958558",
   "metadata": {},
   "outputs": [],
   "source": [
    "# Pandas Kütüphanesi\n",
    "\"\"\"\n",
    "- Hızlı, güçlü ve esnek\n",
    "- Pandas sayesinde csv ve text dosyalarını kolayca okuyabiliyoruz.(etiketlerin genelde olduğu yer)\n",
    "- Eksik verileri bulup çıkartmada\n",
    "\"\"\"\n",
    "import pandas as pd"
   ]
  },
  {
   "cell_type": "code",
   "execution_count": 28,
   "id": "73e4e441-42f9-479b-b54c-e83b29e84c48",
   "metadata": {},
   "outputs": [
    {
     "name": "stdout",
     "output_type": "stream",
     "text": [
      "    isim  yas  maas\n",
      "0    ali   15   100\n",
      "1   veli   16   150\n",
      "2  kenan   17   240\n",
      "3  murat   33   350\n",
      "4   ayse   45   110\n",
      "5  hilal   66   220\n",
      "*********\n",
      "    isim  yas  maas\n",
      "0    ali   15   100\n",
      "1   veli   16   150\n",
      "2  kenan   17   240\n",
      "3  murat   33   350\n",
      "4   ayse   45   110\n",
      "*********\n",
      "Index(['isim', 'yas', 'maas'], dtype='object')\n",
      "*********\n",
      "<class 'pandas.core.frame.DataFrame'>\n",
      "RangeIndex: 6 entries, 0 to 5\n",
      "Data columns (total 3 columns):\n",
      " #   Column  Non-Null Count  Dtype \n",
      "---  ------  --------------  ----- \n",
      " 0   isim    6 non-null      object\n",
      " 1   yas     6 non-null      int64 \n",
      " 2   maas    6 non-null      int64 \n",
      "dtypes: int64(2), object(1)\n",
      "memory usage: 272.0+ bytes\n",
      "None\n",
      "*********\n",
      "             yas        maas\n",
      "count   6.000000    6.000000\n",
      "mean   32.000000  195.000000\n",
      "std    20.474374   94.815611\n",
      "min    15.000000  100.000000\n",
      "25%    16.250000  120.000000\n",
      "50%    25.000000  185.000000\n",
      "75%    42.000000  235.000000\n",
      "max    66.000000  350.000000\n",
      "*********\n",
      "0    15\n",
      "1    16\n",
      "2    17\n",
      "3    33\n",
      "4    45\n",
      "5    66\n",
      "Name: yas, dtype: int64\n",
      "*********\n",
      "    isim  yas  maas     sehir\n",
      "0    ali   15   100    Ankara\n",
      "1   veli   16   150  İstanbul\n",
      "2  kenan   17   240     Konya\n",
      "3  murat   33   350     İzmir\n",
      "4   ayse   45   110     Bursa\n",
      "5  hilal   66   220   Antalya\n",
      "*********\n",
      "0    15\n",
      "1    16\n",
      "2    17\n",
      "3    33\n",
      "4    45\n",
      "5    66\n",
      "Name: yas, dtype: int64\n",
      "*********\n",
      "0    15\n",
      "1    16\n",
      "2    17\n",
      "Name: yas, dtype: int64\n"
     ]
    }
   ],
   "source": [
    "dictionary = {\"isim\": [\"ali\",\"veli\",\"kenan\",\"murat\",\"ayse\",\"hilal\"],\n",
    "              \"yas\": [15,16,17,33,45,66], \n",
    "              \"maas\": [100,150,240,350,110,220]}\n",
    "# Dictionary DataFrame(veri yapısı-veri çerçevesine) çevireceğim\n",
    "veri = pd.DataFrame(dictionary) \n",
    "print(veri)\n",
    "print(\"*********\")\n",
    "# ilk 5 satır\n",
    "print(veri.head())\n",
    "print(\"*********\")\n",
    "# Verinin Sütunları\n",
    "print(veri.columns)\n",
    "print(\"*********\")\n",
    "# Veri Bilgisi\n",
    "print(veri.info())\n",
    "print(\"*********\")\n",
    "# istatistiksel özellikler\n",
    "print(veri.describe())\n",
    "print(\"*********\")\n",
    "# Yas Sütunu\n",
    "print(veri[\"yas\"])\n",
    "print(\"*********\")\n",
    "# Veri setine yeni sütun eklemek\n",
    "veri[\"sehir\"] = [\"Ankara\",\"İstanbul\",\"Konya\",\"İzmir\",\"Bursa\",\"Antalya\"]\n",
    "print(veri)\n",
    "print(\"*********\")\n",
    "# yas sütunu\n",
    "print(veri.loc[:,\"yas\"])\n",
    "print(\"*********\")\n",
    "print(veri.loc[:2,\"yas\"]) # 2 burada dahil.(NumPy ve listelerden farklı olarak)"
   ]
  },
  {
   "cell_type": "code",
   "execution_count": 29,
   "id": "e8fc6a8f-b5cd-4c5b-ace8-5ec0b5a66593",
   "metadata": {},
   "outputs": [
    {
     "name": "stdout",
     "output_type": "stream",
     "text": [
      "   yas  maas     sehir\n",
      "0   15   100    Ankara\n",
      "1   16   150  İstanbul\n",
      "2   17   240     Konya\n",
      "*************\n",
      "   yas   isim\n",
      "0   15    ali\n",
      "1   16   veli\n",
      "2   17  kenan\n",
      "*************\n",
      "    isim  yas  maas     sehir\n",
      "5  hilal   66   220   Antalya\n",
      "4   ayse   45   110     Bursa\n",
      "3  murat   33   350     İzmir\n",
      "2  kenan   17   240     Konya\n",
      "1   veli   16   150  İstanbul\n",
      "0    ali   15   100    Ankara\n",
      "*************\n",
      "0    15\n",
      "1    16\n",
      "2    17\n",
      "3    33\n",
      "4    45\n",
      "5    66\n",
      "Name: yas, dtype: int64\n",
      "*************\n",
      "    isim  yas\n",
      "0    ali   15\n",
      "1   veli   16\n",
      "2  kenan   17\n"
     ]
    }
   ],
   "source": [
    "# yas ve sehir arası sütunu ve 3 satır\n",
    "print(veri.loc[:2,\"yas\":\"sehir\"])\n",
    "print(\"*************\")\n",
    "# sadece yas ve isim'i alacağız\n",
    "print(veri.loc[:2,[\"yas\",\"isim\"]])\n",
    "print(\"*************\")\n",
    "# Tüm satırları tersten yazdır\n",
    "print(veri.loc[::-1,:])\n",
    "print(\"*************\")\n",
    "# Yas sütununu iloc(index) ile yazdıralım\n",
    "print(veri.iloc[:,1])\n",
    "print(\"*************\")\n",
    "# İlk 3 satır ve yaş ve isim\n",
    "print(veri.iloc[:3,[0,1]]) # 3 dahil değil"
   ]
  },
  {
   "cell_type": "code",
   "execution_count": 36,
   "id": "06d8dd83-93cd-4aeb-bce4-dec07535aa45",
   "metadata": {},
   "outputs": [
    {
     "name": "stdout",
     "output_type": "stream",
     "text": [
      "    isim  yas    sehir\n",
      "0    ali   15    İzmir\n",
      "1   veli   16   Ankara\n",
      "2  kenan   17    Konya\n",
      "3  murat   33   Ankara\n",
      "4   ayse   45   Ankara\n",
      "5  hilal   66  Antalya\n",
      "*************\n",
      "    isim  yas    sehir\n",
      "3  murat   33   Ankara\n",
      "4   ayse   45   Ankara\n",
      "5  hilal   66  Antalya\n"
     ]
    }
   ],
   "source": [
    "# Filtreleme\n",
    "dictionary = {\"isim\": [\"ali\",\"veli\",\"kenan\",\"murat\",\"ayse\",\"hilal\"],\n",
    "              \"yas\": [15,16,17,33,45,66], \n",
    "              \"sehir\": [\"İzmir\",\"Ankara\",\"Konya\",\"Ankara\",\"Ankara\",\"Antalya\"]}\n",
    "veri = pd.DataFrame(dictionary) \n",
    "print(veri)\n",
    "print(\"*************\")\n",
    "# ilk olarak yaşa göre bir filtre yas > 22\n",
    "filtre1 = veri.yas > 22\n",
    "filtrelenmis_veri = veri[filtre1]\n",
    "print(filtrelenmis_veri)"
   ]
  },
  {
   "cell_type": "code",
   "execution_count": 39,
   "id": "9fe9ea07-9f28-48dc-bea4-8899c06e5061",
   "metadata": {},
   "outputs": [
    {
     "name": "stdout",
     "output_type": "stream",
     "text": [
      "32.0\n",
      "    isim  yas    sehir YAS_GRUBU\n",
      "0    ali   15    İzmir     kucuk\n",
      "1   veli   16   Ankara     kucuk\n",
      "2  kenan   17    Konya     kucuk\n",
      "3  murat   33   Ankara     buyuk\n",
      "4   ayse   45   Ankara     buyuk\n",
      "5  hilal   66  Antalya     buyuk\n"
     ]
    }
   ],
   "source": [
    "# Ortalama Yas\n",
    "ortalama_yas = veri.yas.mean()\n",
    "print(ortalama_yas)\n",
    "# List Comphresion\n",
    "veri[\"YAS_GRUBU\"] = [\"kucuk\" if ortalama_yas > i else \"buyuk\" for i in veri.yas] # verinin içerisindeki yas sütununda iteratif bir şekilde dolaşacağım\n",
    "print(veri)"
   ]
  },
  {
   "cell_type": "code",
   "execution_count": 46,
   "id": "75d0bae9-948a-4a3a-9301-3291c40bf65d",
   "metadata": {},
   "outputs": [
    {
     "name": "stdout",
     "output_type": "stream",
     "text": [
      "    isim  yas    sehir\n",
      "0    ali   15    İzmir\n",
      "1   veli   16   Ankara\n",
      "2  kenan   17    Konya\n",
      "0  murat   15   Ankara\n",
      "1   ayse   16   Ankara\n",
      "2  hilal   17  Antalya\n",
      "**********\n",
      "    isim  yas   sehir   isim  yas    sehir\n",
      "0    ali   15   İzmir  murat   15   Ankara\n",
      "1   veli   16  Ankara   ayse   16   Ankara\n",
      "2  kenan   17   Konya  hilal   17  Antalya\n"
     ]
    }
   ],
   "source": [
    "# Birleştirme\n",
    "sozluk1 = {\"isim\": [\"ali\",\"veli\",\"kenan\"],\n",
    "          \"yas\": [15,16,17],\n",
    "          \"sehir\": [\"İzmir\",\"Ankara\",\"Konya\"]}\n",
    "veri1 = pd.DataFrame(sozluk1)\n",
    "sozluk2 = {\"isim\": [\"murat\",\"ayse\",\"hilal\"],\n",
    "          \"yas\": [15,16,17],\n",
    "          \"sehir\": [\"Ankara\",\"Ankara\",\"Antalya\"]}\n",
    "veri2 = pd.DataFrame(sozluk2)\n",
    "# Dikeyde Birleştirme\n",
    "veri_dikey = pd.concat([veri1, veri2], axis = 0)\n",
    "print(veri_dikey)\n",
    "print(\"**********\")\n",
    "# Yatayda Birleştirme\n",
    "veri_yatay = pd.concat([veri1,veri2], axis =1)\n",
    "print(veri_yatay) # Farklı sütüünlar var ise yatayda birleştirme yapıyoruz."
   ]
  },
  {
   "cell_type": "code",
   "execution_count": null,
   "id": "9f8c5afb-a779-4ca8-b458-3929d3891b57",
   "metadata": {},
   "outputs": [],
   "source": []
  }
 ],
 "metadata": {
  "kernelspec": {
   "display_name": "Python 3 (ipykernel)",
   "language": "python",
   "name": "python3"
  },
  "language_info": {
   "codemirror_mode": {
    "name": "ipython",
    "version": 3
   },
   "file_extension": ".py",
   "mimetype": "text/x-python",
   "name": "python",
   "nbconvert_exporter": "python",
   "pygments_lexer": "ipython3",
   "version": "3.9.12"
  }
 },
 "nbformat": 4,
 "nbformat_minor": 5
}
