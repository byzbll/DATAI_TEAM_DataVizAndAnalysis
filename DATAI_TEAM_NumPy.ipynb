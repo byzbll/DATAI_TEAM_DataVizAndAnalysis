{
 "cells": [
  {
   "cell_type": "code",
   "execution_count": 3,
   "id": "3c5089f5-2136-41fa-a817-0a0d39ec3249",
   "metadata": {},
   "outputs": [
    {
     "name": "stdout",
     "output_type": "stream",
     "text": [
      "[ 1  2  3  4  5  6  7  8  9 10 11 12 13 14 15]\n",
      "(15,)\n"
     ]
    }
   ],
   "source": [
    "# NumPy Kütüphanesi\n",
    "\"\"\"\n",
    "- Matrisler için hesaplama kolaylığı sağlar.\n",
    "- NumPy aslında bir array yapısıdır\n",
    "\"\"\"\n",
    "import numpy as np\n",
    "# 1*15 boyutunda bir array-dizi\n",
    "dizi = np.array([1,2,3,4,5,6,7,8,9,10,11,12,13,14,15])\n",
    "print(dizi)\n",
    "print(dizi.shape) # arrayin boyutu"
   ]
  },
  {
   "cell_type": "code",
   "execution_count": 9,
   "id": "72376fc5-7700-43f6-8ece-b705fd5ec453",
   "metadata": {},
   "outputs": [
    {
     "name": "stdout",
     "output_type": "stream",
     "text": [
      "Şekil:  (3, 5)\n",
      "Boyut:  2\n",
      "Veri Tipi:  int32\n",
      "Boy:  15\n",
      "Type:  <class 'numpy.ndarray'>\n"
     ]
    }
   ],
   "source": [
    "dizi2 = dizi.reshape(3,5)\n",
    "print(\"Şekil: \",dizi2.shape)\n",
    "print(\"Boyut: \",dizi2.ndim)\n",
    "print(\"Veri Tipi: \",dizi2.dtype.name)\n",
    "print(\"Boy: \",dizi2.size)\n",
    "print(\"Type: \",type(dizi2)) # array type"
   ]
  },
  {
   "cell_type": "code",
   "execution_count": 21,
   "id": "a55ebfb3-9d5c-4529-ae75-43cb79586f7a",
   "metadata": {},
   "outputs": [
    {
     "name": "stdout",
     "output_type": "stream",
     "text": [
      "[[1 2 3 4]\n",
      " [5 6 7 8]\n",
      " [9 8 7 5]]\n",
      "[[0. 0. 0. 0.]\n",
      " [0. 0. 0. 0.]\n",
      " [0. 0. 0. 0.]]\n",
      "[[1. 1. 1. 1.]\n",
      " [1. 1. 1. 1.]\n",
      " [1. 1. 1. 1.]]\n",
      "[[1. 1. 1. 1.]\n",
      " [1. 1. 1. 1.]\n",
      " [1. 1. 1. 1.]]\n"
     ]
    }
   ],
   "source": [
    "# İki Boyutlu Array Oluşturma\n",
    "dizi2D = np.array([[1,2,3,4], [5,6,7,8], [9,8,7,5]])\n",
    "print(dizi2D)\n",
    "# Sıfırlardan Oluşan Bir Array\n",
    "sifir_dizi = np.zeros((3,4))\n",
    "print(sifir_dizi)\n",
    "# Her bir sıfır değeri bir piksele denk gelen genlik değeridir.\n",
    "# Birlerden Oluşan Bir Array\n",
    "bir_dizi = np.ones((3,4))\n",
    "print(bir_dizi)\n",
    "# Boş Array\n",
    "bos_dizi = np.empty((3,4))\n",
    "print(bos_dizi) # Boş(0'a ne kadar yakınsa) olacak"
   ]
  },
  {
   "cell_type": "code",
   "execution_count": 24,
   "id": "6b70daf5-faa2-4aeb-91b2-e73147bb97e0",
   "metadata": {},
   "outputs": [
    {
     "name": "stdout",
     "output_type": "stream",
     "text": [
      "[10 15 20 25 30 35 40 45]\n",
      "[10.  12.5 15.  17.5 20. ]\n"
     ]
    }
   ],
   "source": [
    "# arange(x,y,basamak)\n",
    "dizi_aralik = np.arange(10,50,5)\n",
    "print(dizi_aralik)\n",
    "# linspace(x,y,basamak) => x ve y dahil olarak basamak kadar bölüyor\n",
    "dizi_bosluk = np.linspace(10,20,5)\n",
    "print(dizi_bosluk)"
   ]
  },
  {
   "cell_type": "code",
   "execution_count": 25,
   "id": "7a5a442e-a3c7-4c21-a034-ecfabeada423",
   "metadata": {},
   "outputs": [
    {
     "name": "stdout",
     "output_type": "stream",
     "text": [
      "[[1. 2.]\n",
      " [3. 4.]]\n"
     ]
    }
   ],
   "source": [
    "# Float Array\n",
    "float_array = np.float32([[1,2],[3,4]])\n",
    "print(float_array)"
   ]
  },
  {
   "cell_type": "code",
   "execution_count": 32,
   "id": "b507cd97-b65c-44c5-849a-a136a098b1c6",
   "metadata": {},
   "outputs": [
    {
     "name": "stdout",
     "output_type": "stream",
     "text": [
      "[5 7 9]\n",
      "[-3 -3 -3]\n",
      "[1 4 9]\n",
      "6\n",
      "3\n",
      "1\n",
      "2.0\n",
      "2.0\n"
     ]
    }
   ],
   "source": [
    "# Matematiksel İşlemler\n",
    "a = np.array([1,2,3])\n",
    "b = np.array([4,5,6])\n",
    "print(a+b)\n",
    "print(a-b)\n",
    "print(a**2)\n",
    "# Dizi Elemanı Toplama\n",
    "print(np.sum(a))\n",
    "# Max Değer\n",
    "print(np.max(a))\n",
    "# Min Değer\n",
    "print(np.min(a))\n",
    "# Ortalama\n",
    "print(np.mean(a))\n",
    "# Medyan Değeri\n",
    "print(np.median(a))"
   ]
  },
  {
   "cell_type": "code",
   "execution_count": 34,
   "id": "5f9da6b7-470c-4de0-8d54-c156880b2885",
   "metadata": {},
   "outputs": [
    {
     "name": "stdout",
     "output_type": "stream",
     "text": [
      "[[0.4572457  0.87282352 0.55444206]\n",
      " [0.97686807 0.87303848 0.62904128]\n",
      " [0.35115625 0.42240757 0.34294394]]\n"
     ]
    }
   ],
   "source": [
    "# Rastgele Sayı Üretme [0,1] arasında sürekli uniform 3*3\n",
    "rastgele_dizi = np.random.random((3,3))\n",
    "print(rastgele_dizi) # BAK"
   ]
  },
  {
   "cell_type": "code",
   "execution_count": 40,
   "id": "14f97294-ca3d-480b-8d99-6e8133a443bf",
   "metadata": {},
   "outputs": [
    {
     "name": "stdout",
     "output_type": "stream",
     "text": [
      "1\n",
      "[1 2 3 4]\n",
      "[7 6 5 4 3 2 1]\n"
     ]
    }
   ],
   "source": [
    "# index \n",
    "dizi = np.array([1,2,3,4,5,6,7])\n",
    "print(dizi[0])\n",
    "# Dizinin ilk elemanı 4 elemanı\n",
    "print(dizi[0:4])\n",
    "# Dizinin Tersi\n",
    "print(dizi[::-1])"
   ]
  },
  {
   "cell_type": "code",
   "execution_count": 49,
   "id": "dc782017-3a05-4763-a0e4-90bc714ba8ea",
   "metadata": {},
   "outputs": [
    {
     "name": "stdout",
     "output_type": "stream",
     "text": [
      "[[ 1  2  3  4  5]\n",
      " [ 6  7  8  9 10]]\n",
      "7\n",
      "[2 7]\n",
      "[7 8 9]\n",
      "[ 6  7  8  9 10]\n"
     ]
    }
   ],
   "source": [
    "dizi2D = np.array([[1,2,3,4,5],[6,7,8,9,10]])\n",
    "print(dizi2D)\n",
    "# Dizinin 1.satır ve 1.sütununda bulunan elemanı (index)\n",
    "print(dizi2D[1,1])\n",
    "# 1.Sütun ve Tüm Satırlar(:)\n",
    "print(dizi2D[:,1])\n",
    "# Satır 1, Sütun 1,2,3\n",
    "print(dizi2D[1,1:4])\n",
    "# Dizinin son satır tüm sütunları\n",
    "print(dizi2D[1,:])\n",
    "# print(dizi2D[-1,:])"
   ]
  },
  {
   "cell_type": "code",
   "execution_count": 54,
   "id": "0c412774-4aab-4fdd-8d1e-b876cc65a68a",
   "metadata": {},
   "outputs": [
    {
     "name": "stdout",
     "output_type": "stream",
     "text": [
      "[[1 2 3]\n",
      " [4 5 6]\n",
      " [7 8 9]]\n",
      "[1 2 3 4 5 6 7 8 9]\n",
      "8\n"
     ]
    }
   ],
   "source": [
    "dizi2D = np.array([[1,2,3],[4,5,6],[7,8,9]])\n",
    "print(dizi2D)\n",
    "# Vektör haline getirme\n",
    "vektor = dizi2D.ravel()\n",
    "print(vektor)\n",
    "# Resimleri düzleştirmek için ihtiyaç var.\n",
    "maksimum_sayinin_indeksi = vektor.argmax() \n",
    "print(maksimum_sayinin_indeksi)"
   ]
  },
  {
   "cell_type": "code",
   "execution_count": null,
   "id": "dc3c9363-6782-4a89-b3c7-71c677d81059",
   "metadata": {},
   "outputs": [],
   "source": []
  }
 ],
 "metadata": {
  "kernelspec": {
   "display_name": "Python 3 (ipykernel)",
   "language": "python",
   "name": "python3"
  },
  "language_info": {
   "codemirror_mode": {
    "name": "ipython",
    "version": 3
   },
   "file_extension": ".py",
   "mimetype": "text/x-python",
   "name": "python",
   "nbconvert_exporter": "python",
   "pygments_lexer": "ipython3",
   "version": "3.9.12"
  }
 },
 "nbformat": 4,
 "nbformat_minor": 5
}
