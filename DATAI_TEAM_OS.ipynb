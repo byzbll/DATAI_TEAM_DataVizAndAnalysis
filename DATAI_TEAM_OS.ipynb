{
 "cells": [
  {
   "cell_type": "code",
   "execution_count": 1,
   "id": "44761480-5810-4139-82a6-be18b69d8c69",
   "metadata": {},
   "outputs": [],
   "source": [
    "# OS(Operating System) Kütüphanesi\n",
    "# Bilgisayarımızın içerisinde bulunan klasörlerde dolaşmamızı sağlayan resimlleri içeriye yüklerken ya da resimleri kaydederken kullanacağımız..\n",
    "import os"
   ]
  },
  {
   "cell_type": "code",
   "execution_count": null,
   "id": "7cd0379d-4bda-44bf-994f-61d01517379d",
   "metadata": {},
   "outputs": [],
   "source": [
    "print(os.name) # Bilgisayarımızın işletim sistemi(nt => Windows)\n",
    "# Hangi klasörün içerisindeyiz\n",
    "currentDir = os.getcwd()\n",
    "print(currentDir)\n",
    "# new folder\n",
    "folder_name = \"new_folder\"\n",
    "os.mkdir(folder_name)"
   ]
  },
  {
   "cell_type": "code",
   "execution_count": 8,
   "id": "38ac32dd-7427-48cc-bb9d-c038bacc63ce",
   "metadata": {},
   "outputs": [],
   "source": [
    "# Yeni oluşturduğumuz dosyanın ismini değiştirelim\n",
    "new_folder_name = \"new_folder_2\"\n",
    "os.rename(folder_name,new_folder_name)"
   ]
  },
  {
   "cell_type": "code",
   "execution_count": 9,
   "id": "a8c3d972-73a9-4d4a-9b07-b03d02ee4c6f",
   "metadata": {},
   "outputs": [
    {
     "name": "stdout",
     "output_type": "stream",
     "text": [
      "C:\\Users\\Asus\\new_folder_2\n"
     ]
    }
   ],
   "source": [
    "# Yeni oluuşturduğumuz klasörün içerisine girelim\n",
    "os.chdir(currentDir+\"\\\\\"+new_folder_name)\n",
    "print(os.getcwd())"
   ]
  },
  {
   "cell_type": "code",
   "execution_count": 20,
   "id": "a1dc9d33-cdf5-4ee2-ba78-554211e2076f",
   "metadata": {},
   "outputs": [
    {
     "name": "stdout",
     "output_type": "stream",
     "text": [
      "C:\\Users\\Asus\n",
      "['.android', '.arduinoIDE', '.astropy', '.bash_history', '.cache', '.conda', '.condarc', '.config', '.continuum', '.dotnet', '.emulator_console_auth_token', '.gdxsetup', '.gitconfig', '.gradle', '.ipynb_checkpoints', '.ipython', '.jdks', '.jupyter', '.lesshst', '.matplotlib', '.mume', '.nbi', '.node_repl_history', '.omnisharp', '.templateengine', '.viminfo', '.vscode', '100_Günlük Python', '3D Objects', 'AppData', 'Application Data', 'Belgelerim', 'Contacts', 'Cookies', 'Creative Cloud Files', 'DATAI_TEAM_Matplotlib.ipynb', 'DATAI_TEAM_NumPy.ipynb', 'DATAI_TEAM_OS.ipynb', 'DATAI_TEAM_Pandas.ipynb', 'DATAI_TEAM_Python.ipynb', 'Desktop', 'Documents', 'Downloads', 'Favorites', 'IntelGraphicsProfiles', 'Karışık_ Python', 'Links', 'Local Settings', 'Miuul_', 'Music', 'NetHood', 'new_folder_2', 'NTUSER.DAT', 'ntuser.dat.LOG1', 'ntuser.dat.LOG2', 'NTUSER.DAT{53b39e88-18c4-11ea-a811-000d3aa4692b}.TM.blf', 'NTUSER.DAT{53b39e88-18c4-11ea-a811-000d3aa4692b}.TMContainer00000000000000000001.regtrans-ms', 'NTUSER.DAT{53b39e88-18c4-11ea-a811-000d3aa4692b}.TMContainer00000000000000000002.regtrans-ms', 'ntuser.ini', 'OneDrive', 'Pictures', 'PrintHood', 'PycharmProjects', 'Recent', 'Saved Games', 'seaborn-data', 'Searches', 'SendTo', 'sites', 'source', 'Start Menu', 'StudioProjects', 'Templates', 'Tkinter_', 'Videos', '_Computer Vision']\n",
      "*******************\n"
     ]
    }
   ],
   "source": [
    "# Tekrar geçerli dizin içerisine gidelim\n",
    "os.chdir(currentDir)\n",
    "print(os.getcwd())\n",
    "# Dizin içerisindeki dosyaları yazdırıyorum\n",
    "files = os.listdir()\n",
    "print(files)\n",
    "print(\"*******************\")\n",
    "# Sadece .py uzantılı dosyaları seçmek için\n",
    "for f in files:\n",
    "    if f.endswith(\".py\"):\n",
    "        print(f)"
   ]
  },
  {
   "cell_type": "code",
   "execution_count": 21,
   "id": "82a3620b-155d-4cd3-9625-c39694c708da",
   "metadata": {},
   "outputs": [],
   "source": [
    "# Oluşturduğumuz klasörü silelim(new_folder_2)\n",
    "os.rmdir(new_folder_name)"
   ]
  },
  {
   "cell_type": "code",
   "execution_count": null,
   "id": "ec4f3b66-6bd6-4d5d-bf0f-c08f18b9e8ac",
   "metadata": {},
   "outputs": [],
   "source": [
    "for i in os.walk(currentDir):\n",
    "    print(i)\n",
    "# Sonsuz döngü"
   ]
  },
  {
   "cell_type": "code",
   "execution_count": 23,
   "id": "ec19f63c-d1d0-4811-9cb4-9a34f56cb307",
   "metadata": {},
   "outputs": [
    {
     "data": {
      "text/plain": [
       "True"
      ]
     },
     "execution_count": 23,
     "metadata": {},
     "output_type": "execute_result"
    }
   ],
   "source": [
    "# Aradığımız dosya var mı? yok mu?\n",
    "os.path.exists(\"source\")"
   ]
  },
  {
   "cell_type": "code",
   "execution_count": null,
   "id": "83297b53-9a87-4227-b02f-9769d127e7d4",
   "metadata": {},
   "outputs": [],
   "source": []
  }
 ],
 "metadata": {
  "kernelspec": {
   "display_name": "Python 3 (ipykernel)",
   "language": "python",
   "name": "python3"
  },
  "language_info": {
   "codemirror_mode": {
    "name": "ipython",
    "version": 3
   },
   "file_extension": ".py",
   "mimetype": "text/x-python",
   "name": "python",
   "nbconvert_exporter": "python",
   "pygments_lexer": "ipython3",
   "version": "3.9.12"
  }
 },
 "nbformat": 4,
 "nbformat_minor": 5
}
